{
 "cells": [
  {
   "cell_type": "code",
   "execution_count": null,
   "id": "ffeedf43",
   "metadata": {},
   "outputs": [],
   "source": [
    "\n",
    "import pandas as pd\n",
    "import numpy as np\n",
    "import matplotlib.pyplot as plt\n",
    "import seaborn as sns\n",
    "import folium\n",
    "import sqlite3\n",
    "import plotly.express as px\n",
    "from sklearn.cluster import DBSCAN\n",
    "from sklearn.preprocessing import StandardScaler\n"
   ]
  },
  {
   "cell_type": "markdown",
   "id": "ffa6abc7",
   "metadata": {},
   "source": [
    "# 6. Clustering using DBSCAN"
   ]
  },
  {
   "cell_type": "code",
   "execution_count": null,
   "id": "53891238",
   "metadata": {},
   "outputs": [],
   "source": [
    "\n",
    "# Load dataset\n",
    "df = pd.read_csv('../sao_paulo_districts.csv')\n"
   ]
  },
  {
   "cell_type": "code",
   "execution_count": null,
   "id": "b52e6108",
   "metadata": {},
   "outputs": [],
   "source": [
    "\n",
    "# Prepare data\n",
    "X = df[['Rental_Price', 'Schools', 'Parks', 'Metro_Stations']]\n",
    "scaler = StandardScaler()\n",
    "X_scaled = scaler.fit_transform(X)\n",
    "\n",
    "# DBSCAN clustering\n",
    "db = DBSCAN(eps=1, min_samples=2).fit(X_scaled)\n",
    "df['Cluster'] = db.labels_\n",
    "df.head()\n"
   ]
  },
  {
   "cell_type": "code",
   "execution_count": null,
   "id": "aaacc94f",
   "metadata": {},
   "outputs": [],
   "source": [
    "\n",
    "# Visualize clusters\n",
    "plt.figure(figsize=(8,5))\n",
    "sns.scatterplot(data=df, x='Rental_Price', y='Schools', hue='Cluster', palette='Set1')\n",
    "plt.title('Clusters of Districts')\n",
    "plt.show()\n"
   ]
  }
 ],
 "metadata": {},
 "nbformat": 4,
 "nbformat_minor": 5
}

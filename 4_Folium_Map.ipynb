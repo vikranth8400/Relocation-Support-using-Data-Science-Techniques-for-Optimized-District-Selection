{
 "cells": [
  {
   "cell_type": "code",
   "execution_count": null,
   "id": "ffeedf43",
   "metadata": {},
   "outputs": [],
   "source": [
    "\n",
    "import pandas as pd\n",
    "import numpy as np\n",
    "import matplotlib.pyplot as plt\n",
    "import seaborn as sns\n",
    "import folium\n",
    "import sqlite3\n",
    "import plotly.express as px\n",
    "from sklearn.cluster import DBSCAN\n",
    "from sklearn.preprocessing import StandardScaler\n"
   ]
  },
  {
   "cell_type": "markdown",
   "id": "62437077",
   "metadata": {},
   "source": [
    "# 4. Interactive Map using Folium"
   ]
  },
  {
   "cell_type": "code",
   "execution_count": null,
   "id": "fbbd6f2e",
   "metadata": {},
   "outputs": [],
   "source": [
    "\n",
    "# Load dataset\n",
    "df = pd.read_csv('../sao_paulo_districts.csv')\n"
   ]
  },
  {
   "cell_type": "code",
   "execution_count": null,
   "id": "78e25de3",
   "metadata": {},
   "outputs": [],
   "source": [
    "\n",
    "# Create a map\n",
    "map_sp = folium.Map(location=[-23.6, -46.6], zoom_start=11)\n",
    "\n",
    "# Add markers\n",
    "marker_cluster = folium.plugins.MarkerCluster().add_to(map_sp)\n",
    "for idx, row in df.iterrows():\n",
    "    folium.Marker(\n",
    "        location=[row['Latitude'], row['Longitude']],\n",
    "        popup=f\"{row['District']}: BRL {row['Rental_Price']:.2f}\",\n",
    "    ).add_to(marker_cluster)\n",
    "\n",
    "map_sp\n"
   ]
  }
 ],
 "metadata": {},
 "nbformat": 4,
 "nbformat_minor": 5
}

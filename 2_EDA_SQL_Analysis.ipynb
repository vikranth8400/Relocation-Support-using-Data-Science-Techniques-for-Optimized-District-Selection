{
 "cells": [
  {
   "cell_type": "code",
   "execution_count": null,
   "id": "ffeedf43",
   "metadata": {},
   "outputs": [],
   "source": [
    "\n",
    "import pandas as pd\n",
    "import numpy as np\n",
    "import matplotlib.pyplot as plt\n",
    "import seaborn as sns\n",
    "import folium\n",
    "import sqlite3\n",
    "import plotly.express as px\n",
    "from sklearn.cluster import DBSCAN\n",
    "from sklearn.preprocessing import StandardScaler\n"
   ]
  },
  {
   "cell_type": "markdown",
   "id": "ccb25916",
   "metadata": {},
   "source": [
    "# 2. EDA with SQL Analysis"
   ]
  },
  {
   "cell_type": "code",
   "execution_count": null,
   "id": "7fc2c38a",
   "metadata": {},
   "outputs": [],
   "source": [
    "\n",
    "# Load data\n",
    "df = pd.read_csv('../sao_paulo_districts.csv')\n",
    "\n",
    "# Save to SQLite\n",
    "conn = sqlite3.connect(\":memory:\")\n",
    "df.to_sql('districts', conn, index=False, if_exists='replace')\n"
   ]
  },
  {
   "cell_type": "code",
   "execution_count": null,
   "id": "b8c298f1",
   "metadata": {},
   "outputs": [],
   "source": [
    "\n",
    "# Example SQL Query\n",
    "query = \"SELECT District, Rental_Price FROM districts WHERE Rental_Price > 25\"\n",
    "pd.read_sql(query, conn)\n"
   ]
  }
 ],
 "metadata": {},
 "nbformat": 4,
 "nbformat_minor": 5
}

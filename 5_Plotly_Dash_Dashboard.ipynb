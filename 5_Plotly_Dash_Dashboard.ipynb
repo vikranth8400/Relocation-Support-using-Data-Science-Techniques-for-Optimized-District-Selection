{
 "cells": [
  {
   "cell_type": "code",
   "execution_count": null,
   "id": "ffeedf43",
   "metadata": {},
   "outputs": [],
   "source": [
    "\n",
    "import pandas as pd\n",
    "import numpy as np\n",
    "import matplotlib.pyplot as plt\n",
    "import seaborn as sns\n",
    "import folium\n",
    "import sqlite3\n",
    "import plotly.express as px\n",
    "from sklearn.cluster import DBSCAN\n",
    "from sklearn.preprocessing import StandardScaler\n"
   ]
  },
  {
   "cell_type": "markdown",
   "id": "e4cbed91",
   "metadata": {},
   "source": [
    "# 5. Simple Plotly Dash App"
   ]
  },
  {
   "cell_type": "code",
   "execution_count": null,
   "id": "f461c879",
   "metadata": {},
   "outputs": [],
   "source": [
    "\n",
    "# Normally run in a .py file. Here's a sample inside notebook:\n",
    "import dash\n",
    "from dash import dcc, html\n",
    "from dash.dependencies import Input, Output\n",
    "import plotly.express as px\n",
    "\n",
    "df = pd.read_csv('../sao_paulo_districts.csv')\n",
    "\n",
    "app = dash.Dash(__name__)\n",
    "\n",
    "app.layout = html.Div([\n",
    "    html.H1(\"Rental Price Dashboard\"),\n",
    "    dcc.Dropdown(\n",
    "        id='district-dropdown',\n",
    "        options=[{'label': d, 'value': d} for d in df['District']],\n",
    "        value=df['District'][0]\n",
    "    ),\n",
    "    dcc.Graph(id='price-graph')\n",
    "])\n",
    "\n",
    "@app.callback(\n",
    "    Output('price-graph', 'figure'),\n",
    "    Input('district-dropdown', 'value')\n",
    ")\n",
    "def update_graph(selected_district):\n",
    "    filtered_df = df[df['District'] == selected_district]\n",
    "    fig = px.bar(filtered_df, x='District', y='Rental_Price', title='Rental Price')\n",
    "    return fig\n",
    "\n",
    "# Normally: app.run_server(debug=True)\n",
    "# Here we won't run it to avoid freezing the notebook.\n",
    "\"Dash App Layout Created\"\n"
   ]
  }
 ],
 "metadata": {},
 "nbformat": 4,
 "nbformat_minor": 5
}

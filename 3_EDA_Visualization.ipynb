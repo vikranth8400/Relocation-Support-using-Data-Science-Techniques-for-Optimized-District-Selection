{
 "cells": [
  {
   "cell_type": "code",
   "execution_count": null,
   "id": "ffeedf43",
   "metadata": {},
   "outputs": [],
   "source": [
    "\n",
    "import pandas as pd\n",
    "import numpy as np\n",
    "import matplotlib.pyplot as plt\n",
    "import seaborn as sns\n",
    "import folium\n",
    "import sqlite3\n",
    "import plotly.express as px\n",
    "from sklearn.cluster import DBSCAN\n",
    "from sklearn.preprocessing import StandardScaler\n"
   ]
  },
  {
   "cell_type": "markdown",
   "id": "901f173f",
   "metadata": {},
   "source": [
    "# 3. EDA Visualization"
   ]
  },
  {
   "cell_type": "code",
   "execution_count": null,
   "id": "a9aec226",
   "metadata": {},
   "outputs": [],
   "source": [
    "\n",
    "# Load dataset\n",
    "df = pd.read_csv('../sao_paulo_districts.csv')\n"
   ]
  },
  {
   "cell_type": "code",
   "execution_count": null,
   "id": "3a7aa729",
   "metadata": {},
   "outputs": [],
   "source": [
    "\n",
    "# Rental Price Distribution\n",
    "plt.figure(figsize=(8,5))\n",
    "sns.histplot(df['Rental_Price'], bins=10, kde=True)\n",
    "plt.title('Rental Price Distribution')\n",
    "plt.xlabel('Rental Price (BRL/m2)')\n",
    "plt.show()\n"
   ]
  },
  {
   "cell_type": "code",
   "execution_count": null,
   "id": "1772046f",
   "metadata": {},
   "outputs": [],
   "source": [
    "\n",
    "# Number of Schools vs Rental Price\n",
    "plt.figure(figsize=(8,5))\n",
    "sns.scatterplot(data=df, x='Schools', y='Rental_Price')\n",
    "plt.title('Schools vs Rental Price')\n",
    "plt.show()\n"
   ]
  }
 ],
 "metadata": {},
 "nbformat": 4,
 "nbformat_minor": 5
}
